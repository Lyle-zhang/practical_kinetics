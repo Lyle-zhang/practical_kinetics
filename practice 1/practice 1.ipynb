{
 "cells": [
  {
   "cell_type": "code",
   "execution_count": 57,
   "metadata": {
    "collapsed": false
   },
   "outputs": [
    {
     "data": {
      "text/plain": [
       "<matplotlib.legend.Legend at 0x10fa04b10>"
      ]
     },
     "execution_count": 57,
     "metadata": {},
     "output_type": "execute_result"
    },
    {
     "data": {
      "image/png": "[encoded data removed]",
      "text/plain": [
       "<matplotlib.figure.Figure at 0x10e8e4890>"
      ]
     },
     "metadata": {},
     "output_type": "display_data"
    }
   ],
   "source": [
    "import matplotlib\n",
    "import matplotlib.pyplot as plt\n",
    "%matplotlib inline\n",
    "import numpy as np\n",
    "from math import exp\n",
    "\n",
    "# rate constants\n",
    "k_R    = 1.0\n",
    "k_S    =  0.1\n",
    "\n",
    "# starting concentrations\n",
    "SM_R_0 =  0.5\n",
    "SM_S_0 =  0.5\n",
    "total_concentration = SM_R_0 + SM_S_0\n",
    "\n",
    "# simulate\n",
    "time = np.logspace(-3,2,50)\n",
    "indices = range(len(time))\n",
    "\n",
    "SM_R  = [ SM_R_0 * exp(-k_R*t) for t in time ]\n",
    "PDT_R = [ SM_R_0 - i for i in SM_R ]\n",
    "SM_S  = [ SM_S_0 * exp(-k_S*t) for t in time ]\n",
    "PDT_S = [ SM_S_0 - i for i in SM_S ]\n",
    "\n",
    "conversion = [ (PDT_R[i] + PDT_S[i]) / total_concentration for i in indices ]\n",
    "ee_SM      = [ (SM_S[i] - SM_R[i]) / (SM_R[i] + SM_S[i]) for i in indices ]\n",
    "ee_PDT     = [ (PDT_R[i] - PDT_S[i]) / (PDT_R[i] + PDT_S[i]) for i in indices ]\n",
    "\n",
    "# plot\n",
    "plt.plot(conversion, ee_SM, \"r.\", label=\"ee (SM)\")\n",
    "plt.plot(conversion, ee_PDT, \"b.\", label=\"ee (PDT)\")\n",
    "plt.xlabel(\"conversion\")\n",
    "plt.ylabel(\"enantiomeric excess\")\n",
    "plt.legend(loc=\"best\")"
   ]
  },
  {
   "cell_type": "code",
   "execution_count": 63,
   "metadata": {
    "collapsed": false
   },
   "outputs": [
    {
     "data": {
      "text/plain": [
       "<matplotlib.text.Text at 0x10fb9f650>"
      ]
     },
     "execution_count": 63,
     "metadata": {},
     "output_type": "execute_result"
    },
    {
     "data": {
      "image/png": "[encoded data removed]",
      "text/plain": [
       "<matplotlib.figure.Figure at 0x10fcc8790>"
      ]
     },
     "metadata": {},
     "output_type": "display_data"
    }
   ],
   "source": [
    "from scipy.interpolate import interp1d\n",
    "\n",
    "def SM_yield(target_ee, selectivity):\n",
    "    k_R = k_S * selectivity\n",
    "\n",
    "    SM_R  = [ SM_R_0 * exp(-k_R*t) for t in time ]\n",
    "    PDT_R = [ SM_R_0 - i for i in SM_R ]\n",
    "    SM_S  = [ SM_S_0 * exp(-k_S*t) for t in time ]\n",
    "    PDT_S = [ SM_S_0 - i for i in SM_S ]\n",
    "\n",
    "    conversion = [ (PDT_R[i] + PDT_S[i]) / total_concentration for i in indices ]\n",
    "    ee_SM      = [ (SM_S[i] - SM_R[i]) / (SM_R[i] + SM_S[i]) for i in indices ]\n",
    "        \n",
    "    if max(ee_SM) < target_ee:\n",
    "        return 0.0\n",
    "        \n",
    "    interpolation_function = interp1d(ee_SM, conversion)\n",
    "    interpolated_conversion = interpolation_function(target_ee)\n",
    "    this_yield = 1.0 - interpolated_conversion\n",
    "    return this_yield\n",
    "        \n",
    "target_ee = 0.99\n",
    "selectivities = np.logspace(0.1, 2, 50)\n",
    "yields = [ SM_yield(target_ee, i) for i in selectivities ]\n",
    "\n",
    "plt.plot(selectivities, yields_90, \"r.\", label=\"99% ee\")\n",
    "plt.legend(loc=\"best\")\n",
    "plt.xlabel(\"s factor\")\n",
    "plt.ylabel(\"yield\")"
   ]
  },
  {
   "cell_type": "code",
   "execution_count": null,
   "metadata": {
    "collapsed": true
   },
   "outputs": [],
   "source": []
  }
 ],
 "metadata": {
  "kernelspec": {
   "display_name": "Python 2",
   "language": "python",
   "name": "python2"
  },
  "language_info": {
   "codemirror_mode": {
    "name": "ipython",
    "version": 2
   },
   "file_extension": ".py",
   "mimetype": "text/x-python",
   "name": "python",
   "nbconvert_exporter": "python",
   "pygments_lexer": "ipython2",
   "version": "2.7.8"
  }
 },
 "nbformat": 4,
 "nbformat_minor": 0
}
