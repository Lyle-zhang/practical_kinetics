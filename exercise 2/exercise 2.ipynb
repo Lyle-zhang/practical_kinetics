{
 "cells": [
  {
   "cell_type": "markdown",
   "metadata": {},
   "source": [
    "# Step 1: Importing Data"
   ]
  },
  {
   "cell_type": "code",
   "execution_count": 1,
   "metadata": {
    "collapsed": true
   },
   "outputs": [],
   "source": [
    "import matplotlib\n",
    "import matplotlib.pyplot as plt\n",
    "%matplotlib inline\n",
    "import numpy as np\n",
    "from math import exp\n",
    "import pandas as pd"
   ]
  },
  {
   "cell_type": "code",
   "execution_count": 2,
   "metadata": {
    "collapsed": false
   },
   "outputs": [
    {
     "data": {
      "text/html": [
       "<div>\n",
       "<table border=\"1\" class=\"dataframe\">\n",
       "  <thead>\n",
       "    <tr style=\"text-align: right;\">\n",
       "      <th></th>\n",
       "      <th>time</th>\n",
       "      <th>absorbance</th>\n",
       "    </tr>\n",
       "  </thead>\n",
       "  <tbody>\n",
       "    <tr>\n",
       "      <th>0</th>\n",
       "      <td>0</td>\n",
       "      <td>0.441876</td>\n",
       "    </tr>\n",
       "    <tr>\n",
       "      <th>1</th>\n",
       "      <td>1</td>\n",
       "      <td>0.411688</td>\n",
       "    </tr>\n",
       "    <tr>\n",
       "      <th>2</th>\n",
       "      <td>2</td>\n",
       "      <td>0.384200</td>\n",
       "    </tr>\n",
       "    <tr>\n",
       "      <th>3</th>\n",
       "      <td>3</td>\n",
       "      <td>0.369743</td>\n",
       "    </tr>\n",
       "    <tr>\n",
       "      <th>4</th>\n",
       "      <td>4</td>\n",
       "      <td>0.342148</td>\n",
       "    </tr>\n",
       "  </tbody>\n",
       "</table>\n",
       "</div>"
      ],
      "text/plain": [
       "   time  absorbance\n",
       "0     0    0.441876\n",
       "1     1    0.411688\n",
       "2     2    0.384200\n",
       "3     3    0.369743\n",
       "4     4    0.342148"
      ]
     },
     "execution_count": 2,
     "metadata": {},
     "output_type": "execute_result"
    }
   ],
   "source": [
    "df = pd.read_excel(\"dataset1.xlsx\")\n",
    "df.head()"
   ]
  },
  {
   "cell_type": "code",
   "execution_count": 3,
   "metadata": {
    "collapsed": false
   },
   "outputs": [
    {
     "name": "stdout",
     "output_type": "stream",
     "text": [
      "0    0\n",
      "1    1\n",
      "2    2\n",
      "3    3\n",
      "4    4\n",
      "Name: time, dtype: int64\n",
      "0    0.441876\n",
      "1    0.411688\n",
      "2    0.384200\n",
      "3    0.369743\n",
      "4    0.342148\n",
      "Name: absorbance, dtype: float64\n"
     ]
    }
   ],
   "source": [
    "time = df.time\n",
    "absorbance = df.absorbance\n",
    "print time[:5]\n",
    "print absorbance[:5]"
   ]
  },
  {
   "cell_type": "code",
   "execution_count": 6,
   "metadata": {
    "collapsed": false
   },
   "outputs": [
    {
     "name": "stdout",
     "output_type": "stream",
     "text": [
      "0    0\n",
      "1    1\n",
      "2    2\n",
      "3    3\n",
      "4    4\n",
      "Name: time, dtype: float64\n",
      "0    0.441876\n",
      "1    0.411688\n",
      "2    0.384200\n",
      "3    0.369743\n",
      "4    0.342148\n",
      "Name: absorbance, dtype: float64\n"
     ]
    },
    {
     "data": {
      "text/html": [
       "<div>\n",
       "<table border=\"1\" class=\"dataframe\">\n",
       "  <thead>\n",
       "    <tr style=\"text-align: right;\">\n",
       "      <th></th>\n",
       "      <th>time</th>\n",
       "      <th>absorbance</th>\n",
       "    </tr>\n",
       "  </thead>\n",
       "  <tbody>\n",
       "    <tr>\n",
       "      <th>0</th>\n",
       "      <td>0</td>\n",
       "      <td>0.441876</td>\n",
       "    </tr>\n",
       "    <tr>\n",
       "      <th>1</th>\n",
       "      <td>1</td>\n",
       "      <td>0.411688</td>\n",
       "    </tr>\n",
       "    <tr>\n",
       "      <th>2</th>\n",
       "      <td>2</td>\n",
       "      <td>0.384200</td>\n",
       "    </tr>\n",
       "    <tr>\n",
       "      <th>3</th>\n",
       "      <td>3</td>\n",
       "      <td>0.369743</td>\n",
       "    </tr>\n",
       "    <tr>\n",
       "      <th>4</th>\n",
       "      <td>4</td>\n",
       "      <td>0.342148</td>\n",
       "    </tr>\n",
       "  </tbody>\n",
       "</table>\n",
       "</div>"
      ],
      "text/plain": [
       "   time  absorbance\n",
       "0     0    0.441876\n",
       "1     1    0.411688\n",
       "2     2    0.384200\n",
       "3     3    0.369743\n",
       "4     4    0.342148"
      ]
     },
     "execution_count": 6,
     "metadata": {},
     "output_type": "execute_result"
    }
   ],
   "source": [
    "df2 = pd.read_csv(\"dataset1.csv\")\n",
    "time = df2.time\n",
    "absorbance = df2.absorbance\n",
    "print time[:5]\n",
    "print absorbance[:5]\n",
    "df2.head()"
   ]
  },
  {
   "cell_type": "code",
   "execution_count": 7,
   "metadata": {
    "collapsed": false
   },
   "outputs": [
    {
     "data": {
      "text/plain": [
       "[<matplotlib.lines.Line2D at 0x11580dbd0>]"
      ]
     },
     "execution_count": 7,
     "metadata": {},
     "output_type": "execute_result"
    },
    {
     "data": {
      "image/png": "[encoded data removed]",
      "text/plain": [
       "<matplotlib.figure.Figure at 0x111cbae10>"
      ]
     },
     "metadata": {},
     "output_type": "display_data"
    }
   ],
   "source": [
    "plt.plot(time,absorbance,\"k.\")"
   ]
  },
  {
   "cell_type": "markdown",
   "metadata": {},
   "source": [
    "# Step 2: A First Look"
   ]
  },
  {
   "cell_type": "code",
   "execution_count": 8,
   "metadata": {
    "collapsed": false
   },
   "outputs": [
    {
     "data": {
      "image/png": "[encoded data removed]",
      "text/plain": [
       "<matplotlib.figure.Figure at 0x115864550>"
      ]
     },
     "metadata": {},
     "output_type": "display_data"
    },
    {
     "data": {
      "image/png": "[encoded data removed]",
      "text/plain": [
       "<matplotlib.figure.Figure at 0x115945a10>"
      ]
     },
     "metadata": {},
     "output_type": "display_data"
    },
    {
     "data": {
      "image/png": "[encoded data removed]",
      "text/plain": [
       "<matplotlib.figure.Figure at 0x115a4ea50>"
      ]
     },
     "metadata": {},
     "output_type": "display_data"
    }
   ],
   "source": [
    "corrected_absorbance = absorbance - np.min(absorbance)\n",
    "log_absorbance = np.log(corrected_absorbance)\n",
    "one_over_absorbance = 1.0/absorbance\n",
    "\n",
    "plt.plot(time[:30],absorbance[:30],\"k.\")\n",
    "plt.show()\n",
    "plt.plot(time[:30],log_absorbance[:30],\"r.\")\n",
    "plt.show()\n",
    "plt.plot(time[:30],one_over_absorbance[:30],\"b.\")\n",
    "plt.show()"
   ]
  },
  {
   "cell_type": "markdown",
   "metadata": {},
   "source": [
    "# Step 3: First-Order Fit"
   ]
  },
  {
   "cell_type": "code",
   "execution_count": 10,
   "metadata": {
    "collapsed": false
   },
   "outputs": [
    {
     "name": "stdout",
     "output_type": "stream",
     "text": [
      "pre_factor:  0.2131 ± 0.0033\n",
      "rate_const:  0.1320 ± 0.0032\n",
      "offset:      0.2245 ± 0.0004\n"
     ]
    },
    {
     "data": {
      "text/plain": [
       "[<matplotlib.lines.Line2D at 0x116b06950>]"
      ]
     },
     "execution_count": 10,
     "metadata": {},
     "output_type": "execute_result"
    },
    {
     "data": {
      "image/png": "[encoded data removed]",
      "text/plain": [
       "<matplotlib.figure.Figure at 0x111d04890>"
      ]
     },
     "metadata": {},
     "output_type": "display_data"
    }
   ],
   "source": [
    "from scipy.optimize import curve_fit\n",
    "\n",
    "def first_order_function(t, pre_factor, rate_constant, offset):\n",
    "    return pre_factor*np.exp(-rate_constant*t) + offset\n",
    "\n",
    "popt, pcov = curve_fit(first_order_function, time, absorbance)\n",
    "errors = np.sqrt(np.diag(pcov))\n",
    "print \"pre_factor: %7.4f ± %6.4f\" % (popt[0], errors[0])\n",
    "print \"rate_const: %7.4f ± %6.4f\" % (popt[1], errors[1])\n",
    "print \"offset:     %7.4f ± %6.4f\" % (popt[2], errors[2])\n",
    "\n",
    "fitted_absorbance = first_order_function(time, popt[0], popt[1], popt[2])\n",
    "\n",
    "plt.plot(time,absorbance,\"k+\")\n",
    "plt.plot(time,fitted_absorbance,\"k\")"
   ]
  },
  {
   "cell_type": "markdown",
   "metadata": {},
   "source": [
    "# Step 4: Plot the Residuals"
   ]
  },
  {
   "cell_type": "code",
   "execution_count": 11,
   "metadata": {
    "collapsed": false
   },
   "outputs": [
    {
     "data": {
      "image/png": "[encoded data removed]",
      "text/plain": [
       "<matplotlib.figure.Figure at 0x111d04750>"
      ]
     },
     "metadata": {},
     "output_type": "display_data"
    },
    {
     "data": {
      "image/png": "[encoded data removed]",
      "text/plain": [
       "<matplotlib.figure.Figure at 0x11581c9d0>"
      ]
     },
     "metadata": {},
     "output_type": "display_data"
    },
    {
     "name": "stdout",
     "output_type": "stream",
     "text": [
      "standard deviation: 5.11E-03\n"
     ]
    }
   ],
   "source": [
    "residual = absorbance - fitted_absorbance\n",
    "plt.plot(time, residual, \"k+\")\n",
    "plt.show()\n",
    "plt.hist(residual,bins=8)\n",
    "plt.show()\n",
    "standard_deviation = np.std(residual)\n",
    "print \"standard deviation: %5.2E\" % standard_deviation"
   ]
  },
  {
   "cell_type": "markdown",
   "metadata": {},
   "source": [
    "# Step 5: Fit with Error Bars"
   ]
  },
  {
   "cell_type": "code",
   "execution_count": 12,
   "metadata": {
    "collapsed": false
   },
   "outputs": [
    {
     "name": "stdout",
     "output_type": "stream",
     "text": [
      "pre_factor:  0.2139 ± 0.0090\n",
      "rate_const:  0.1321 ± 0.0053\n",
      "offset:      0.2241 ± 0.0004\n"
     ]
    },
    {
     "data": {
      "text/plain": [
       "[<matplotlib.lines.Line2D at 0x115bb8410>]"
      ]
     },
     "execution_count": 12,
     "metadata": {},
     "output_type": "execute_result"
    },
    {
     "data": {
      "image/png": "[encoded data removed]",
      "text/plain": [
       "<matplotlib.figure.Figure at 0x111d18a90>"
      ]
     },
     "metadata": {},
     "output_type": "display_data"
    }
   ],
   "source": [
    "weights = [ (i/standard_deviation)**2 for i in absorbance ]\n",
    "\n",
    "popt, pcov = curve_fit(first_order_function, time, absorbance, sigma=weights)\n",
    "errors = np.sqrt(np.diag(pcov))\n",
    "\n",
    "print \"pre_factor: %7.4f ± %6.4f\" % (popt[0], errors[0])\n",
    "print \"rate_const: %7.4f ± %6.4f\" % (popt[1], errors[1])\n",
    "print \"offset:     %7.4f ± %6.4f\" % (popt[2], errors[2])\n",
    "\n",
    "fitted_absorbance2 = first_order_function(time, popt[0], popt[1], popt[2])\n",
    "\n",
    "plt.plot(time,absorbance,\"k+\")\n",
    "plt.plot(time,fitted_absorbance2,\"k\")"
   ]
  },
  {
   "cell_type": "markdown",
   "metadata": {},
   "source": [
    "# Step 6: Chi-Square"
   ]
  },
  {
   "cell_type": "code",
   "execution_count": 17,
   "metadata": {
    "collapsed": false
   },
   "outputs": [
    {
     "name": "stdout",
     "output_type": "stream",
     "text": [
      "chi_square / dof = 1.0233\n"
     ]
    }
   ],
   "source": [
    "dof = len(time)-3\n",
    "\n",
    "def chi_square(observed, expected, stdev):\n",
    "    chi_square_value = 0.0\n",
    "\n",
    "    for i in range(len(observed)):\n",
    "        o = observed[i]\n",
    "        e = expected[i]\n",
    "        chi_square_value += ((o-e) / standard_deviation)**2\n",
    "    \n",
    "    return chi_square_value\n",
    "\n",
    "goodness_of_fit = chi_square(absorbance,fitted_absorbance2,standard_deviation) / dof\n",
    "print \"chi_square / dof = %.4f\" % goodness_of_fit"
   ]
  },
  {
   "cell_type": "markdown",
   "metadata": {},
   "source": [
    "# Step 7: Zeroth-Order Fit"
   ]
  },
  {
   "cell_type": "code",
   "execution_count": 19,
   "metadata": {
    "collapsed": false
   },
   "outputs": [
    {
     "name": "stdout",
     "output_type": "stream",
     "text": [
      "c_1:  0.2569 ± 0.0039\n",
      "c_2:  0.0002 ± 0.0000\n"
     ]
    },
    {
     "data": {
      "text/plain": [
       "[<matplotlib.lines.Line2D at 0x111d04fd0>]"
      ]
     },
     "execution_count": 19,
     "metadata": {},
     "output_type": "execute_result"
    },
    {
     "data": {
      "image/png": "[encoded data removed]",
      "text/plain": [
       "<matplotlib.figure.Figure at 0x115a4e490>"
      ]
     },
     "metadata": {},
     "output_type": "display_data"
    }
   ],
   "source": [
    "def zero_order_function(t, c_1, c_2):\n",
    "    return c_1 - c_2*t\n",
    "\n",
    "popt, pcov = curve_fit(zero_order_function, time, absorbance)\n",
    "errors = np.sqrt(np.diag(pcov))\n",
    "print \"c_1: %7.4f ± %6.4f\" % (popt[0], errors[0])\n",
    "print \"c_2: %7.4f ± %6.4f\" % (popt[1], errors[1])\n",
    "\n",
    "fitted_absorbance3 = zero_order_function(time, popt[0], popt[1])\n",
    "\n",
    "plt.plot(time,absorbance,\"k+\")\n",
    "plt.plot(time,fitted_absorbance3,\"k\")"
   ]
  },
  {
   "cell_type": "code",
   "execution_count": 20,
   "metadata": {
    "collapsed": false
   },
   "outputs": [
    {
     "name": "stdout",
     "output_type": "stream",
     "text": [
      "chi_square / dof = 28.6341\n"
     ]
    },
    {
     "data": {
      "image/png": "[encoded data removed]",
      "text/plain": [
       "<matplotlib.figure.Figure at 0x1144ad050>"
      ]
     },
     "metadata": {},
     "output_type": "display_data"
    }
   ],
   "source": [
    "dof = len(time) - 2\n",
    "residual3 = fitted_absorbance3 - absorbance\n",
    "plt.plot(time,residual3,\"k+\")\n",
    "goodness_of_fit = chi_square(absorbance,fitted_absorbance3,standard_deviation) / dof\n",
    "print \"chi_square / dof = %.4f\" % goodness_of_fit"
   ]
  },
  {
   "cell_type": "code",
   "execution_count": 21,
   "metadata": {
    "collapsed": false
   },
   "outputs": [
    {
     "name": "stdout",
     "output_type": "stream",
     "text": [
      "c_1:  0.3697 ± 0.0090\n",
      "c_2:  0.0062 ± 0.0005\n",
      "chi_square / dof = 3.4715\n"
     ]
    },
    {
     "data": {
      "text/plain": [
       "[<matplotlib.lines.Line2D at 0x11747bf10>]"
      ]
     },
     "execution_count": 21,
     "metadata": {},
     "output_type": "execute_result"
    },
    {
     "data": {
      "image/png": "[encoded data removed]",
      "text/plain": [
       "<matplotlib.figure.Figure at 0x11745e210>"
      ]
     },
     "metadata": {},
     "output_type": "display_data"
    }
   ],
   "source": [
    "popt, pcov = curve_fit(zero_order_function, time[:30], absorbance[:30])\n",
    "errors = np.sqrt(np.diag(pcov))\n",
    "print \"c_1: %7.4f ± %6.4f\" % (popt[0], errors[0])\n",
    "print \"c_2: %7.4f ± %6.4f\" % (popt[1], errors[1])\n",
    "\n",
    "fitted_absorbance3 = zero_order_function(time[:30], popt[0], popt[1])\n",
    "\n",
    "goodness_of_fit = chi_square(absorbance[:30],fitted_absorbance3,standard_deviation) / dof\n",
    "print \"chi_square / dof = %.4f\" % goodness_of_fit\n",
    "\n",
    "plt.plot(time[:30],absorbance[:30],\"k+\")\n",
    "plt.plot(time[:30],fitted_absorbance3[:30],\"k\")"
   ]
  },
  {
   "cell_type": "markdown",
   "metadata": {},
   "source": [
    "# Step 8: Second-Order Fit"
   ]
  },
  {
   "cell_type": "code",
   "execution_count": 23,
   "metadata": {
    "collapsed": false
   },
   "outputs": [
    {
     "name": "stdout",
     "output_type": "stream",
     "text": [
      "c_1:  0.2813 ± 0.0222\n",
      "c_2:  0.4697 ± 0.0570\n",
      "c_3:  0.2177 ± 0.0007\n"
     ]
    },
    {
     "data": {
      "text/plain": [
       "[<matplotlib.lines.Line2D at 0x1144c5250>]"
      ]
     },
     "execution_count": 23,
     "metadata": {},
     "output_type": "execute_result"
    },
    {
     "data": {
      "image/png": "[encoded data removed]",
      "text/plain": [
       "<matplotlib.figure.Figure at 0x115b8e5d0>"
      ]
     },
     "metadata": {},
     "output_type": "display_data"
    }
   ],
   "source": [
    "def second_order_function(t, c_1, c_2, c_3):\n",
    "    return (c_1 / ( 1.0 + c_2*t )) + c_3\n",
    "\n",
    "popt, pcov = curve_fit(second_order_function, time, absorbance,sigma=weights)\n",
    "errors = np.sqrt(np.diag(pcov))\n",
    "print \"c_1: %7.4f ± %6.4f\" % (popt[0], errors[0])\n",
    "print \"c_2: %7.4f ± %6.4f\" % (popt[1], errors[1])\n",
    "print \"c_3: %7.4f ± %6.4f\" % (popt[2], errors[2])\n",
    "\n",
    "fitted_absorbance4 = second_order_function(time, popt[0], popt[1], popt[2])\n",
    "\n",
    "plt.plot(time,absorbance,\"k+\")\n",
    "plt.plot(time,fitted_absorbance4,\"k\")"
   ]
  },
  {
   "cell_type": "code",
   "execution_count": 24,
   "metadata": {
    "collapsed": false
   },
   "outputs": [
    {
     "name": "stdout",
     "output_type": "stream",
     "text": [
      "chi_square / dof = 3.3651\n"
     ]
    },
    {
     "data": {
      "image/png": "[encoded data removed]",
      "text/plain": [
       "<matplotlib.figure.Figure at 0x116f287d0>"
      ]
     },
     "metadata": {},
     "output_type": "display_data"
    }
   ],
   "source": [
    "dof = len(time) - 3\n",
    "residuals4 = fitted_absorbance4 - absorbance\n",
    "plt.plot(time,residuals4,\"k+\")\n",
    "goodness_of_fit = chi_square(absorbance,fitted_absorbance4,standard_deviation) / dof\n",
    "print \"chi_square / dof = %.4f\" % goodness_of_fit"
   ]
  },
  {
   "cell_type": "markdown",
   "metadata": {},
   "source": [
    "# Summary"
   ]
  },
  {
   "cell_type": "code",
   "execution_count": 26,
   "metadata": {
    "collapsed": false
   },
   "outputs": [
    {
     "name": "stdout",
     "output_type": "stream",
     "text": [
      "pre_factor:  0.2139 ± 0.0090\n",
      "rate_const:  0.1321 ± 0.0053\n",
      "offset:      0.2241 ± 0.0004\n",
      "chi_square / dof = 1.0233\n"
     ]
    },
    {
     "data": {
      "text/plain": [
       "[<matplotlib.lines.Line2D at 0x111d04910>]"
      ]
     },
     "execution_count": 26,
     "metadata": {},
     "output_type": "execute_result"
    },
    {
     "data": {
      "image/png": "[encoded data removed]",
      "text/plain": [
       "<matplotlib.figure.Figure at 0x115b75490>"
      ]
     },
     "metadata": {},
     "output_type": "display_data"
    }
   ],
   "source": [
    "import matplotlib\n",
    "import matplotlib.pyplot as plt\n",
    "%matplotlib inline\n",
    "import numpy as np\n",
    "from math import exp\n",
    "import pandas as pd\n",
    "from scipy.optimize import curve_fit\n",
    "\n",
    "df = pd.read_csv(\"dataset1.csv\")\n",
    "time = df.time\n",
    "absorbance = df.absorbance\n",
    "\n",
    "def first_order_function(t, pre_factor, rate_constant, offset):\n",
    "    return pre_factor*np.exp(-rate_constant*t) + offset\n",
    "\n",
    "popt, pcov = curve_fit(first_order_function, time, absorbance)\n",
    "fitted_absorbance = first_order_function(time, popt[0], popt[1], popt[2])\n",
    "residual = absorbance-fitted_absorbance\n",
    "standard_deviation = np.std(residual)\n",
    "weights = [ (i/standard_deviation)**2 for i in absorbance ]\n",
    "\n",
    "popt, pcov = curve_fit(first_order_function, time, absorbance, sigma=weights)\n",
    "errors = np.sqrt(np.diag(pcov))\n",
    "print \"pre_factor: %7.4f ± %6.4f\" % (popt[0], errors[0])\n",
    "print \"rate_const: %7.4f ± %6.4f\" % (popt[1], errors[1])\n",
    "print \"offset:     %7.4f ± %6.4f\" % (popt[2], errors[2])\n",
    "\n",
    "fitted_absorbance = first_order_function(time, popt[0], popt[1], popt[2])\n",
    "\n",
    "dof = len(time)-3\n",
    "def chi_square(observed, expected, stdev):\n",
    "    chi_squared_value = 0.0\n",
    "    for i in range(len(observed)):\n",
    "        o = observed[i]\n",
    "        e = expected[i]\n",
    "        chi_squared_value += ((o-e) / standard_deviation)**2\n",
    "    return chi_squared_value\n",
    "goodness_of_fit = chi_square(absorbance,fitted_absorbance,standard_deviation) / dof\n",
    "print \"chi_square / dof = %.4f\" % goodness_of_fit\n",
    "\n",
    "plt.plot(time,absorbance,\"k+\")\n",
    "plt.plot(time,fitted_absorbance,\"k\")"
   ]
  },
  {
   "cell_type": "code",
   "execution_count": null,
   "metadata": {
    "collapsed": true
   },
   "outputs": [],
   "source": []
  }
 ],
 "metadata": {
  "kernelspec": {
   "display_name": "Python 2",
   "language": "python",
   "name": "python2"
  },
  "language_info": {
   "codemirror_mode": {
    "name": "ipython",
    "version": 2
   },
   "file_extension": ".py",
   "mimetype": "text/x-python",
   "name": "python",
   "nbconvert_exporter": "python",
   "pygments_lexer": "ipython2",
   "version": "2.7.8"
  }
 },
 "nbformat": 4,
 "nbformat_minor": 0
}
